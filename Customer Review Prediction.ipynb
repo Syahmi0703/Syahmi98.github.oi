{
 "cells": [
  {
   "cell_type": "code",
   "execution_count": 108,
   "id": "1a2fe383",
   "metadata": {},
   "outputs": [],
   "source": [
    "import pandas as pd\n",
    "import numpy as np \n",
    "import matplotlib.pyplot as plt\n",
    "import seaborn as sns"
   ]
  },
  {
   "cell_type": "code",
   "execution_count": 109,
   "id": "9af0dbb4",
   "metadata": {},
   "outputs": [],
   "source": [
    "df = pd.read_csv('../System Manager/Python/honda_sell_data.csv')"
   ]
  },
  {
   "cell_type": "code",
   "execution_count": 110,
   "id": "31d598e7",
   "metadata": {},
   "outputs": [
    {
     "data": {
      "text/html": [
       "<div>\n",
       "<style scoped>\n",
       "    .dataframe tbody tr th:only-of-type {\n",
       "        vertical-align: middle;\n",
       "    }\n",
       "\n",
       "    .dataframe tbody tr th {\n",
       "        vertical-align: top;\n",
       "    }\n",
       "\n",
       "    .dataframe thead th {\n",
       "        text-align: right;\n",
       "    }\n",
       "</style>\n",
       "<table border=\"1\" class=\"dataframe\">\n",
       "  <thead>\n",
       "    <tr style=\"text-align: right;\">\n",
       "      <th></th>\n",
       "      <th>Year</th>\n",
       "      <th>Make</th>\n",
       "      <th>Model</th>\n",
       "      <th>Condition</th>\n",
       "      <th>Price</th>\n",
       "      <th>Consumer_Rating</th>\n",
       "      <th>Consumer_Review_#</th>\n",
       "      <th>Exterior_Color</th>\n",
       "      <th>Interior_Color</th>\n",
       "      <th>Drivetrain</th>\n",
       "      <th>Fuel_Type</th>\n",
       "      <th>Transmission</th>\n",
       "      <th>Engine</th>\n",
       "      <th>VIN</th>\n",
       "      <th>Stock_#</th>\n",
       "      <th>Mileage</th>\n",
       "      <th>State</th>\n",
       "      <th>Seller_Type</th>\n",
       "    </tr>\n",
       "  </thead>\n",
       "  <tbody>\n",
       "    <tr>\n",
       "      <th>0</th>\n",
       "      <td>2023</td>\n",
       "      <td>Honda</td>\n",
       "      <td>Ridgeline RTL</td>\n",
       "      <td>New</td>\n",
       "      <td>46,370</td>\n",
       "      <td>4.8</td>\n",
       "      <td>9</td>\n",
       "      <td>Platinum White Pearl</td>\n",
       "      <td>Beige</td>\n",
       "      <td>All-wheel Drive</td>\n",
       "      <td>Gasoline</td>\n",
       "      <td>Automatic</td>\n",
       "      <td>3.5L V6 24V GDI SOHC</td>\n",
       "      <td>5FPYK3F58PB011817</td>\n",
       "      <td>830164</td>\n",
       "      <td>10</td>\n",
       "      <td>CA</td>\n",
       "      <td>Dealer</td>\n",
       "    </tr>\n",
       "    <tr>\n",
       "      <th>1</th>\n",
       "      <td>2023</td>\n",
       "      <td>Honda</td>\n",
       "      <td>CR-V Hybrid Sport</td>\n",
       "      <td>New</td>\n",
       "      <td>34,150</td>\n",
       "      <td>1.7</td>\n",
       "      <td>24</td>\n",
       "      <td>Platinum White Pearl</td>\n",
       "      <td>Black</td>\n",
       "      <td>FWD</td>\n",
       "      <td>Hybrid</td>\n",
       "      <td>Automatic CVT</td>\n",
       "      <td>2.0L I4 16V GDI DOHC Hybrid</td>\n",
       "      <td>2HKRS5H5XPH702953</td>\n",
       "      <td>6402953</td>\n",
       "      <td>–</td>\n",
       "      <td>CA</td>\n",
       "      <td>Dealer</td>\n",
       "    </tr>\n",
       "    <tr>\n",
       "      <th>2</th>\n",
       "      <td>2023</td>\n",
       "      <td>Honda</td>\n",
       "      <td>CR-V Hybrid Sport</td>\n",
       "      <td>New</td>\n",
       "      <td>34,245</td>\n",
       "      <td>4.7</td>\n",
       "      <td>2869</td>\n",
       "      <td>Meteorite Gray Metallic</td>\n",
       "      <td>Black</td>\n",
       "      <td>Front-wheel Drive</td>\n",
       "      <td>Hybrid</td>\n",
       "      <td>Automatic CVT</td>\n",
       "      <td>2.0L I4 16V GDI DOHC Hybrid</td>\n",
       "      <td>2HKRS5H55PH704805</td>\n",
       "      <td>PH704805</td>\n",
       "      <td>1</td>\n",
       "      <td>CA</td>\n",
       "      <td>Dealer</td>\n",
       "    </tr>\n",
       "    <tr>\n",
       "      <th>3</th>\n",
       "      <td>2022</td>\n",
       "      <td>Honda</td>\n",
       "      <td>Pilot TrailSport</td>\n",
       "      <td>New</td>\n",
       "      <td>46,500</td>\n",
       "      <td>5.0</td>\n",
       "      <td>12</td>\n",
       "      <td>Sonic Gray Pearl</td>\n",
       "      <td>Black</td>\n",
       "      <td>All-wheel Drive</td>\n",
       "      <td>Gasoline</td>\n",
       "      <td>9-Speed Automatic</td>\n",
       "      <td>3.5L V6 24V GDI SOHC</td>\n",
       "      <td>5FNYF6H82NB100429</td>\n",
       "      <td>5700429B</td>\n",
       "      <td>5</td>\n",
       "      <td>CA</td>\n",
       "      <td>Dealer</td>\n",
       "    </tr>\n",
       "    <tr>\n",
       "      <th>4</th>\n",
       "      <td>2023</td>\n",
       "      <td>Honda</td>\n",
       "      <td>CR-V Hybrid Sport Touring</td>\n",
       "      <td>New</td>\n",
       "      <td>40,395</td>\n",
       "      <td>4.4</td>\n",
       "      <td>12</td>\n",
       "      <td>Crystal Black Pearl</td>\n",
       "      <td>Black</td>\n",
       "      <td>All-wheel Drive</td>\n",
       "      <td>Hybrid</td>\n",
       "      <td>Automatic CVT</td>\n",
       "      <td>2.0L I4 16V GDI DOHC Hybrid</td>\n",
       "      <td>2HKRS6H90PH805954</td>\n",
       "      <td>5705954</td>\n",
       "      <td>5</td>\n",
       "      <td>CA</td>\n",
       "      <td>Dealer</td>\n",
       "    </tr>\n",
       "  </tbody>\n",
       "</table>\n",
       "</div>"
      ],
      "text/plain": [
       "   Year   Make                      Model Condition   Price  Consumer_Rating   \n",
       "0  2023  Honda              Ridgeline RTL       New  46,370              4.8  \\\n",
       "1  2023  Honda          CR-V Hybrid Sport       New  34,150              1.7   \n",
       "2  2023  Honda          CR-V Hybrid Sport       New  34,245              4.7   \n",
       "3  2022  Honda           Pilot TrailSport       New  46,500              5.0   \n",
       "4  2023  Honda  CR-V Hybrid Sport Touring       New  40,395              4.4   \n",
       "\n",
       "   Consumer_Review_#           Exterior_Color Interior_Color   \n",
       "0                  9     Platinum White Pearl          Beige  \\\n",
       "1                 24     Platinum White Pearl          Black   \n",
       "2               2869  Meteorite Gray Metallic          Black   \n",
       "3                 12         Sonic Gray Pearl          Black   \n",
       "4                 12      Crystal Black Pearl          Black   \n",
       "\n",
       "          Drivetrain Fuel_Type       Transmission   \n",
       "0    All-wheel Drive  Gasoline          Automatic  \\\n",
       "1                FWD    Hybrid      Automatic CVT   \n",
       "2  Front-wheel Drive    Hybrid      Automatic CVT   \n",
       "3    All-wheel Drive  Gasoline  9-Speed Automatic   \n",
       "4    All-wheel Drive    Hybrid      Automatic CVT   \n",
       "\n",
       "                        Engine                VIN   Stock_# Mileage State   \n",
       "0         3.5L V6 24V GDI SOHC  5FPYK3F58PB011817    830164      10    CA  \\\n",
       "1  2.0L I4 16V GDI DOHC Hybrid  2HKRS5H5XPH702953   6402953       –    CA   \n",
       "2  2.0L I4 16V GDI DOHC Hybrid  2HKRS5H55PH704805  PH704805       1    CA   \n",
       "3         3.5L V6 24V GDI SOHC  5FNYF6H82NB100429  5700429B       5    CA   \n",
       "4  2.0L I4 16V GDI DOHC Hybrid  2HKRS6H90PH805954   5705954       5    CA   \n",
       "\n",
       "  Seller_Type  \n",
       "0      Dealer  \n",
       "1      Dealer  \n",
       "2      Dealer  \n",
       "3      Dealer  \n",
       "4      Dealer  "
      ]
     },
     "execution_count": 110,
     "metadata": {},
     "output_type": "execute_result"
    }
   ],
   "source": [
    "df.head(5)"
   ]
  },
  {
   "cell_type": "code",
   "execution_count": 111,
   "id": "9fc88955",
   "metadata": {},
   "outputs": [
    {
     "name": "stdout",
     "output_type": "stream",
     "text": [
      "<class 'pandas.core.frame.DataFrame'>\n",
      "RangeIndex: 4926 entries, 0 to 4925\n",
      "Data columns (total 18 columns):\n",
      " #   Column             Non-Null Count  Dtype  \n",
      "---  ------             --------------  -----  \n",
      " 0   Year               4926 non-null   int64  \n",
      " 1   Make               4926 non-null   object \n",
      " 2   Model              4926 non-null   object \n",
      " 3   Condition          4926 non-null   object \n",
      " 4   Price              4926 non-null   object \n",
      " 5   Consumer_Rating    4926 non-null   float64\n",
      " 6   Consumer_Review_#  4926 non-null   int64  \n",
      " 7   Exterior_Color     4926 non-null   object \n",
      " 8   Interior_Color     4926 non-null   object \n",
      " 9   Drivetrain         4926 non-null   object \n",
      " 10  Fuel_Type          4926 non-null   object \n",
      " 11  Transmission       4926 non-null   object \n",
      " 12  Engine             4926 non-null   object \n",
      " 13  VIN                4926 non-null   object \n",
      " 14  Stock_#            4926 non-null   object \n",
      " 15  Mileage            4926 non-null   object \n",
      " 16  State              4926 non-null   object \n",
      " 17  Seller_Type        4926 non-null   object \n",
      "dtypes: float64(1), int64(2), object(15)\n",
      "memory usage: 692.8+ KB\n"
     ]
    }
   ],
   "source": [
    "df.info()"
   ]
  },
  {
   "cell_type": "code",
   "execution_count": 112,
   "id": "93eeac1d",
   "metadata": {},
   "outputs": [
    {
     "name": "stdout",
     "output_type": "stream",
     "text": [
      "Number of rows in the dataset = 4926\n",
      "Number of columns in the dataset = 18\n"
     ]
    }
   ],
   "source": [
    "print('Number of rows in the dataset =', df.shape[0])\n",
    "print('Number of columns in the dataset =', df.shape[1])"
   ]
  },
  {
   "cell_type": "code",
   "execution_count": 113,
   "id": "509ff628",
   "metadata": {},
   "outputs": [
    {
     "name": "stdout",
     "output_type": "stream",
     "text": [
      "Number of null values in the dataset = 0\n"
     ]
    }
   ],
   "source": [
    "print('Number of null values in the dataset =', df.isnull().sum().sum())"
   ]
  },
  {
   "cell_type": "code",
   "execution_count": 114,
   "id": "1570a4cd",
   "metadata": {},
   "outputs": [
    {
     "data": {
      "text/html": [
       "<style type=\"text/css\">\n",
       "#T_20d2a_row0_col0, #T_20d2a_row0_col2, #T_20d2a_row1_col0, #T_20d2a_row1_col1, #T_20d2a_row1_col2, #T_20d2a_row1_col3, #T_20d2a_row1_col4, #T_20d2a_row1_col5, #T_20d2a_row1_col6, #T_20d2a_row1_col7, #T_20d2a_row2_col0, #T_20d2a_row2_col3 {\n",
       "  background-color: #f7fbff;\n",
       "  color: #000000;\n",
       "}\n",
       "#T_20d2a_row0_col1, #T_20d2a_row0_col3, #T_20d2a_row0_col4, #T_20d2a_row0_col5, #T_20d2a_row0_col6, #T_20d2a_row2_col2, #T_20d2a_row2_col7 {\n",
       "  background-color: #08306b;\n",
       "  color: #f1f1f1;\n",
       "}\n",
       "#T_20d2a_row0_col7 {\n",
       "  background-color: #eaf2fb;\n",
       "  color: #000000;\n",
       "}\n",
       "#T_20d2a_row2_col1 {\n",
       "  background-color: #4e9acb;\n",
       "  color: #f1f1f1;\n",
       "}\n",
       "#T_20d2a_row2_col4 {\n",
       "  background-color: #ebf3fb;\n",
       "  color: #000000;\n",
       "}\n",
       "#T_20d2a_row2_col5 {\n",
       "  background-color: #add0e6;\n",
       "  color: #000000;\n",
       "}\n",
       "#T_20d2a_row2_col6 {\n",
       "  background-color: #125ea6;\n",
       "  color: #f1f1f1;\n",
       "}\n",
       "</style>\n",
       "<table id=\"T_20d2a\">\n",
       "  <thead>\n",
       "    <tr>\n",
       "      <th class=\"blank level0\" >&nbsp;</th>\n",
       "      <th id=\"T_20d2a_level0_col0\" class=\"col_heading level0 col0\" >count</th>\n",
       "      <th id=\"T_20d2a_level0_col1\" class=\"col_heading level0 col1\" >mean</th>\n",
       "      <th id=\"T_20d2a_level0_col2\" class=\"col_heading level0 col2\" >std</th>\n",
       "      <th id=\"T_20d2a_level0_col3\" class=\"col_heading level0 col3\" >min</th>\n",
       "      <th id=\"T_20d2a_level0_col4\" class=\"col_heading level0 col4\" >25%</th>\n",
       "      <th id=\"T_20d2a_level0_col5\" class=\"col_heading level0 col5\" >50%</th>\n",
       "      <th id=\"T_20d2a_level0_col6\" class=\"col_heading level0 col6\" >75%</th>\n",
       "      <th id=\"T_20d2a_level0_col7\" class=\"col_heading level0 col7\" >max</th>\n",
       "    </tr>\n",
       "  </thead>\n",
       "  <tbody>\n",
       "    <tr>\n",
       "      <th id=\"T_20d2a_level0_row0\" class=\"row_heading level0 row0\" >Year</th>\n",
       "      <td id=\"T_20d2a_row0_col0\" class=\"data row0 col0\" >4926.000000</td>\n",
       "      <td id=\"T_20d2a_row0_col1\" class=\"data row0 col1\" >2020.573285</td>\n",
       "      <td id=\"T_20d2a_row0_col2\" class=\"data row0 col2\" >3.660048</td>\n",
       "      <td id=\"T_20d2a_row0_col3\" class=\"data row0 col3\" >1981.000000</td>\n",
       "      <td id=\"T_20d2a_row0_col4\" class=\"data row0 col4\" >2020.000000</td>\n",
       "      <td id=\"T_20d2a_row0_col5\" class=\"data row0 col5\" >2022.000000</td>\n",
       "      <td id=\"T_20d2a_row0_col6\" class=\"data row0 col6\" >2023.000000</td>\n",
       "      <td id=\"T_20d2a_row0_col7\" class=\"data row0 col7\" >2023.000000</td>\n",
       "    </tr>\n",
       "    <tr>\n",
       "      <th id=\"T_20d2a_level0_row1\" class=\"row_heading level0 row1\" >Consumer_Rating</th>\n",
       "      <td id=\"T_20d2a_row1_col0\" class=\"data row1 col0\" >4926.000000</td>\n",
       "      <td id=\"T_20d2a_row1_col1\" class=\"data row1 col1\" >4.575741</td>\n",
       "      <td id=\"T_20d2a_row1_col2\" class=\"data row1 col2\" >0.542716</td>\n",
       "      <td id=\"T_20d2a_row1_col3\" class=\"data row1 col3\" >1.200000</td>\n",
       "      <td id=\"T_20d2a_row1_col4\" class=\"data row1 col4\" >4.500000</td>\n",
       "      <td id=\"T_20d2a_row1_col5\" class=\"data row1 col5\" >4.700000</td>\n",
       "      <td id=\"T_20d2a_row1_col6\" class=\"data row1 col6\" >4.900000</td>\n",
       "      <td id=\"T_20d2a_row1_col7\" class=\"data row1 col7\" >5.000000</td>\n",
       "    </tr>\n",
       "    <tr>\n",
       "      <th id=\"T_20d2a_level0_row2\" class=\"row_heading level0 row2\" >Consumer_Review_#</th>\n",
       "      <td id=\"T_20d2a_row2_col0\" class=\"data row2 col0\" >4926.000000</td>\n",
       "      <td id=\"T_20d2a_row2_col1\" class=\"data row2 col1\" >1189.800041</td>\n",
       "      <td id=\"T_20d2a_row2_col2\" class=\"data row2 col2\" >1727.801953</td>\n",
       "      <td id=\"T_20d2a_row2_col3\" class=\"data row2 col3\" >0.000000</td>\n",
       "      <td id=\"T_20d2a_row2_col4\" class=\"data row2 col4\" >124.000000</td>\n",
       "      <td id=\"T_20d2a_row2_col5\" class=\"data row2 col5\" >671.000000</td>\n",
       "      <td id=\"T_20d2a_row2_col6\" class=\"data row2 col6\" >1664.000000</td>\n",
       "      <td id=\"T_20d2a_row2_col7\" class=\"data row2 col7\" >29258.000000</td>\n",
       "    </tr>\n",
       "  </tbody>\n",
       "</table>\n"
      ],
      "text/plain": [
       "<pandas.io.formats.style.Styler at 0x23526749d30>"
      ]
     },
     "execution_count": 114,
     "metadata": {},
     "output_type": "execute_result"
    }
   ],
   "source": [
    "df_num_col = df.select_dtypes(exclude=['object']).columns\n",
    "df_num = df[df_num_col]\n",
    "\n",
    "df_num.describe().T.style.background_gradient(cmap='Blues')"
   ]
  },
  {
   "cell_type": "code",
   "execution_count": 115,
   "id": "6dee42fb",
   "metadata": {},
   "outputs": [
    {
     "data": {
      "text/plain": [
       "<Axes: >"
      ]
     },
     "execution_count": 115,
     "metadata": {},
     "output_type": "execute_result"
    },
    {
     "data": {
      "image/png": "[encoded data removed]",
      "text/plain": [
       "<Figure size 900x500 with 2 Axes>"
      ]
     },
     "metadata": {},
     "output_type": "display_data"
    }
   ],
   "source": [
    "plt.figure(figsize=(9,5))\n",
    "corr = df_num.corr()\n",
    "mask = np.triu(np.ones_like(corr, dtype=bool))\n",
    "sns.heatmap(corr, mask=mask, annot=True, cmap='Dark2')"
   ]
  },
  {
   "cell_type": "code",
   "execution_count": 116,
   "id": "7f5944b0",
   "metadata": {},
   "outputs": [
    {
     "name": "stdout",
     "output_type": "stream",
     "text": [
      "<class 'pandas.core.frame.DataFrame'>\n",
      "RangeIndex: 4926 entries, 0 to 4925\n",
      "Data columns (total 18 columns):\n",
      " #   Column             Non-Null Count  Dtype  \n",
      "---  ------             --------------  -----  \n",
      " 0   Year               4926 non-null   int64  \n",
      " 1   Make               4926 non-null   object \n",
      " 2   Model              4926 non-null   object \n",
      " 3   Condition          4926 non-null   object \n",
      " 4   Price              4926 non-null   object \n",
      " 5   Consumer_Rating    4926 non-null   float64\n",
      " 6   Consumer_Review_#  4926 non-null   int64  \n",
      " 7   Exterior_Color     4926 non-null   object \n",
      " 8   Interior_Color     4926 non-null   object \n",
      " 9   Drivetrain         4926 non-null   object \n",
      " 10  Fuel_Type          4926 non-null   object \n",
      " 11  Transmission       4926 non-null   object \n",
      " 12  Engine             4926 non-null   object \n",
      " 13  VIN                4926 non-null   object \n",
      " 14  Stock_#            4926 non-null   object \n",
      " 15  Mileage            4926 non-null   object \n",
      " 16  State              4926 non-null   object \n",
      " 17  Seller_Type        4926 non-null   object \n",
      "dtypes: float64(1), int64(2), object(15)\n",
      "memory usage: 692.8+ KB\n"
     ]
    }
   ],
   "source": [
    "df.info()"
   ]
  },
  {
   "cell_type": "code",
   "execution_count": 117,
   "id": "28b7f9a7",
   "metadata": {},
   "outputs": [],
   "source": [
    "from sklearn import linear_model\n",
    "from sklearn import preprocessing\n",
    "from sklearn.model_selection import train_test_split"
   ]
  },
  {
   "cell_type": "code",
   "execution_count": 118,
   "id": "902f3159",
   "metadata": {},
   "outputs": [],
   "source": [
    "label_encoder = preprocessing.LabelEncoder()\n",
    "\n",
    "encoded_model = label_encoder.fit_transform(df['Model'])\n",
    "encoded_condition = label_encoder.fit_transform(df['Condition'])\n",
    "encoded_ExtColour = label_encoder.fit_transform(df['Exterior_Color'])\n",
    "encoded_IntColour = label_encoder.fit_transform(df['Interior_Color'])\n",
    "encoded_Drivetrain = label_encoder.fit_transform(df['Drivetrain'])\n",
    "encoded_FuelType = label_encoder.fit_transform(df['Fuel_Type'])\n",
    "encoded_Transmission = label_encoder.fit_transform(df['Transmission'])\n",
    "encoded_Engine = label_encoder.fit_transform(df['Engine'])"
   ]
  },
  {
   "cell_type": "code",
   "execution_count": 119,
   "id": "9fc3f828",
   "metadata": {},
   "outputs": [],
   "source": [
    "train_features = pd.DataFrame([encoded_model,\n",
    "                               encoded_condition,\n",
    "                               encoded_ExtColour,\n",
    "                               encoded_IntColour,\n",
    "                               encoded_Drivetrain,\n",
    "                               encoded_FuelType,\n",
    "                               encoded_Transmission,\n",
    "                               encoded_Engine]).T"
   ]
  },
  {
   "cell_type": "code",
   "execution_count": 120,
   "id": "4a098aad",
   "metadata": {},
   "outputs": [],
   "source": [
    "X_train,X_test,y_train,y_test = train_test_split(train_features, df['Consumer_Rating'], test_size=0.25, random_state=42)"
   ]
  },
  {
   "cell_type": "code",
   "execution_count": 121,
   "id": "53bd835c",
   "metadata": {},
   "outputs": [
    {
     "name": "stdout",
     "output_type": "stream",
     "text": [
      "4.625024210795675\n",
      "[ 2.58150504e-04 -3.44212075e-02 -8.91580304e-07  6.21082055e-04\n",
      "  2.20444486e-02 -3.70765642e-02  1.86476240e-03  1.23848003e-03]\n"
     ]
    }
   ],
   "source": [
    "multi_reg_model = linear_model.LinearRegression()\n",
    "\n",
    "multi_reg_model.fit(X = X_train,\n",
    "                    y = y_train)\n",
    "\n",
    "print(multi_reg_model.intercept_)\n",
    "print(multi_reg_model.coef_)\n"
   ]
  },
  {
   "cell_type": "code",
   "execution_count": 122,
   "id": "5e9078ea",
   "metadata": {},
   "outputs": [],
   "source": [
    "y_pred = multi_reg_model.predict(X_test)"
   ]
  },
  {
   "cell_type": "code",
   "execution_count": 123,
   "id": "431f358a",
   "metadata": {},
   "outputs": [
    {
     "name": "stdout",
     "output_type": "stream",
     "text": [
      "MSE on test set: 0.2946605727329902\n",
      "RMSE on test set: 0.5428264665001055\n",
      "MAE on test set: 0.3509468729366714\n",
      "R2 score on test set: -0.00510028048390776\n"
     ]
    }
   ],
   "source": [
    "# Calculate the mean squared error (MSE)\n",
    "mse = np.mean((y_pred - y_test)**2)\n",
    "rmse = np.sqrt(mse)\n",
    "mae = np.mean(np.abs(y_pred - y_test))\n",
    "r2_score = multi_reg_model.score(X_test, y_test)\n",
    "\n",
    "# Print the MSE\n",
    "print('MSE on test set:', mse)\n",
    "print('RMSE on test set:', rmse)\n",
    "print('MAE on test set:', mae)\n",
    "print('R2 score on test set:', r2_score)"
   ]
  },
  {
   "cell_type": "code",
   "execution_count": 124,
   "id": "e6a7f736",
   "metadata": {},
   "outputs": [
    {
     "data": {
      "text/html": [
       "<div>\n",
       "<style scoped>\n",
       "    .dataframe tbody tr th:only-of-type {\n",
       "        vertical-align: middle;\n",
       "    }\n",
       "\n",
       "    .dataframe tbody tr th {\n",
       "        vertical-align: top;\n",
       "    }\n",
       "\n",
       "    .dataframe thead th {\n",
       "        text-align: right;\n",
       "    }\n",
       "</style>\n",
       "<table border=\"1\" class=\"dataframe\">\n",
       "  <thead>\n",
       "    <tr style=\"text-align: right;\">\n",
       "      <th></th>\n",
       "      <th>0</th>\n",
       "      <th>1</th>\n",
       "      <th>2</th>\n",
       "      <th>3</th>\n",
       "      <th>4</th>\n",
       "      <th>5</th>\n",
       "      <th>6</th>\n",
       "      <th>7</th>\n",
       "    </tr>\n",
       "  </thead>\n",
       "  <tbody>\n",
       "    <tr>\n",
       "      <th>2678</th>\n",
       "      <td>33</td>\n",
       "      <td>1</td>\n",
       "      <td>118</td>\n",
       "      <td>9</td>\n",
       "      <td>1</td>\n",
       "      <td>6</td>\n",
       "      <td>34</td>\n",
       "      <td>30</td>\n",
       "    </tr>\n",
       "    <tr>\n",
       "      <th>2679</th>\n",
       "      <td>100</td>\n",
       "      <td>1</td>\n",
       "      <td>107</td>\n",
       "      <td>28</td>\n",
       "      <td>4</td>\n",
       "      <td>5</td>\n",
       "      <td>5</td>\n",
       "      <td>50</td>\n",
       "    </tr>\n",
       "    <tr>\n",
       "      <th>2680</th>\n",
       "      <td>22</td>\n",
       "      <td>2</td>\n",
       "      <td>62</td>\n",
       "      <td>9</td>\n",
       "      <td>4</td>\n",
       "      <td>5</td>\n",
       "      <td>5</td>\n",
       "      <td>31</td>\n",
       "    </tr>\n",
       "    <tr>\n",
       "      <th>2681</th>\n",
       "      <td>31</td>\n",
       "      <td>2</td>\n",
       "      <td>164</td>\n",
       "      <td>57</td>\n",
       "      <td>1</td>\n",
       "      <td>6</td>\n",
       "      <td>34</td>\n",
       "      <td>33</td>\n",
       "    </tr>\n",
       "    <tr>\n",
       "      <th>2682</th>\n",
       "      <td>29</td>\n",
       "      <td>2</td>\n",
       "      <td>164</td>\n",
       "      <td>61</td>\n",
       "      <td>3</td>\n",
       "      <td>5</td>\n",
       "      <td>19</td>\n",
       "      <td>42</td>\n",
       "    </tr>\n",
       "    <tr>\n",
       "      <th>2683</th>\n",
       "      <td>110</td>\n",
       "      <td>1</td>\n",
       "      <td>126</td>\n",
       "      <td>9</td>\n",
       "      <td>1</td>\n",
       "      <td>5</td>\n",
       "      <td>29</td>\n",
       "      <td>50</td>\n",
       "    </tr>\n",
       "    <tr>\n",
       "      <th>2684</th>\n",
       "      <td>107</td>\n",
       "      <td>2</td>\n",
       "      <td>166</td>\n",
       "      <td>28</td>\n",
       "      <td>1</td>\n",
       "      <td>5</td>\n",
       "      <td>29</td>\n",
       "      <td>50</td>\n",
       "    </tr>\n",
       "  </tbody>\n",
       "</table>\n",
       "</div>"
      ],
      "text/plain": [
       "        0  1    2   3  4  5   6   7\n",
       "2678   33  1  118   9  1  6  34  30\n",
       "2679  100  1  107  28  4  5   5  50\n",
       "2680   22  2   62   9  4  5   5  31\n",
       "2681   31  2  164  57  1  6  34  33\n",
       "2682   29  2  164  61  3  5  19  42\n",
       "2683  110  1  126   9  1  5  29  50\n",
       "2684  107  2  166  28  1  5  29  50"
      ]
     },
     "execution_count": 124,
     "metadata": {},
     "output_type": "execute_result"
    }
   ],
   "source": [
    "data_point = train_features.iloc[2678:2685,:]\n",
    "data_point"
   ]
  },
  {
   "cell_type": "code",
   "execution_count": 125,
   "id": "da1166ea",
   "metadata": {},
   "outputs": [
    {
     "data": {
      "text/plain": [
       "array([4.50474789, 4.60775574, 4.51790723, 4.50329675, 4.56960512,\n",
       "       4.5771407 , 4.55370993])"
      ]
     },
     "execution_count": 125,
     "metadata": {},
     "output_type": "execute_result"
    }
   ],
   "source": [
    "y_pred = multi_reg_model.predict(data_point)\n",
    "y_pred"
   ]
  },
  {
   "cell_type": "code",
   "execution_count": 126,
   "id": "8d127e26",
   "metadata": {},
   "outputs": [
    {
     "data": {
      "text/plain": [
       "2678    4.6\n",
       "2679    4.6\n",
       "2680    4.8\n",
       "2681    4.7\n",
       "2682    4.5\n",
       "2683    4.7\n",
       "2684    4.5\n",
       "Name: Consumer_Rating, dtype: float64"
      ]
     },
     "execution_count": 126,
     "metadata": {},
     "output_type": "execute_result"
    }
   ],
   "source": [
    "check = df.iloc[2678:2685, : ]\n",
    "check['Consumer_Rating']"
   ]
  },
  {
   "cell_type": "code",
   "execution_count": null,
   "id": "1b898812",
   "metadata": {},
   "outputs": [],
   "source": []
  }
 ],
 "metadata": {
  "kernelspec": {
   "display_name": "Python 3 (ipykernel)",
   "language": "python",
   "name": "python3"
  },
  "language_info": {
   "codemirror_mode": {
    "name": "ipython",
    "version": 3
   },
   "file_extension": ".py",
   "mimetype": "text/x-python",
   "name": "python",
   "nbconvert_exporter": "python",
   "pygments_lexer": "ipython3",
   "version": "3.9.16"
  }
 },
 "nbformat": 4,
 "nbformat_minor": 5
}
